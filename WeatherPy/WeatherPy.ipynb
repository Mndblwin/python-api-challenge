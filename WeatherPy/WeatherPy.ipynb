{
 "cells": [
  {
   "cell_type": "markdown",
   "metadata": {},
   "source": [
    "# WeatherPy\n",
    "----\n",
    "\n",
    "#### Note\n",
    "* Instructions have been included for each segment. You do not have to follow them exactly, but they are included to help you think through the steps."
   ]
  },
  {
   "cell_type": "code",
   "execution_count": 63,
   "metadata": {
    "scrolled": true
   },
   "outputs": [],
   "source": [
    "# Dependencies and Setup\n",
    "import matplotlib.pyplot as plt\n",
    "import pandas as pd\n",
    "import numpy as np\n",
    "import requests\n",
    "import time\n",
    "from scipy.stats import linregress\n",
    "import json\n",
    "\n",
    "\n",
    "# Import API key\n",
    "from api_keys import weather_api_key\n",
    "\n",
    "# Incorporated citipy to determine city based on latitude and longitude\n",
    "# from citipy import citipy\n",
    "\n",
    "from citipy import citipy \n",
    "\n",
    "# Output File (CSV)\n",
    "output_data_file = \"output_data/cities.csv\"\n",
    "\n",
    "# Range of latitudes and longitudes\n",
    "lat_range = (-90, 90)\n",
    "lng_range = (-180, 180)"
   ]
  },
  {
   "cell_type": "markdown",
   "metadata": {},
   "source": [
    "## Generate Cities List"
   ]
  },
  {
   "cell_type": "code",
   "execution_count": 18,
   "metadata": {},
   "outputs": [
    {
     "data": {
      "text/plain": [
       "577"
      ]
     },
     "execution_count": 18,
     "metadata": {},
     "output_type": "execute_result"
    }
   ],
   "source": [
    "# List for holding lat_lngs and cities\n",
    "lat_lngs = []\n",
    "cities = []\n",
    "\n",
    "# Create a set of random lat and lng combinations\n",
    "lats = np.random.uniform(lat_range[0], lat_range[1], size=1500)\n",
    "lngs = np.random.uniform(lng_range[0], lng_range[1], size=1500)\n",
    "lat_lngs = zip(lats, lngs)\n",
    "\n",
    "# Identify nearest city for each lat, lng combination\n",
    "for lat_lng in lat_lngs:\n",
    "    city = citipy.nearest_city(lat_lng[0], lat_lng[1]).city_name\n",
    "    \n",
    "    # If the city is unique, then add it to a our cities list\n",
    "    if city not in cities:\n",
    "        cities.append(city)\n",
    "\n",
    "# Print the city count to confirm sufficient count\n",
    "len(cities)"
   ]
  },
  {
   "cell_type": "code",
   "execution_count": 49,
   "metadata": {},
   "outputs": [],
   "source": [
    "# Create placeholders to hold values\n",
    "\n",
    "cloudiness = []\n",
    "country = []\n",
    "date = []\n",
    "max_temp = []\n",
    "humidity = []\n",
    "lat = []\n",
    "lng = []\n",
    "wind_speed = []\n",
    "city_name = []\n",
    "sun_rise = []\n",
    "sun_set = []"
   ]
  },
  {
   "cell_type": "markdown",
   "metadata": {},
   "source": [
    "### Perform API Calls\n",
    "* Perform a weather check on each city using a series of successive API calls.\n",
    "* Include a print log of each city as it'sbeing processed (with the city number and city name).\n"
   ]
  },
  {
   "cell_type": "code",
   "execution_count": 51,
   "metadata": {
    "scrolled": true
   },
   "outputs": [
    {
     "name": "stdout",
     "output_type": "stream",
     "text": [
      "Beginning Data Retrieval \n",
      "-----------------------------\n",
      "Processing record 1|qaanaaq\n",
      "Sorry NO City Found. skipping.\n",
      "Processing record 2|new norfolk\n",
      "Sorry NO City Found. skipping.\n",
      "Processing record 3|victoria\n",
      "Sorry NO City Found. skipping.\n",
      "Processing record 4|tuktoyaktuk\n",
      "Processing record 5|atuona\n",
      "Processing record 6|thompson\n",
      "Processing record 7|souillac\n",
      "Processing record 8|puerto ayora\n",
      "Sorry NO City Found. skipping.\n",
      "Sorry NO City Found. skipping.\n",
      "Processing record 9|albany\n",
      "Processing record 10|gangarampur\n",
      "Processing record 11|bengkulu\n",
      "Processing record 12|fare\n",
      "Processing record 13|mahebourg\n",
      "Processing record 14|port alfred\n",
      "Processing record 15|mataura\n",
      "Processing record 16|punta arenas\n",
      "Sorry NO City Found. skipping.\n",
      "Processing record 17|khatanga\n",
      "Processing record 18|los llanos de aridane\n",
      "Processing record 19|talnakh\n",
      "Processing record 20|kapaa\n",
      "Processing record 21|esperance\n",
      "Processing record 22|rikitea\n",
      "Processing record 23|busselton\n",
      "Processing record 24|laguna\n",
      "Processing record 25|cabo san lucas\n",
      "Processing record 26|dikson\n",
      "Processing record 27|arraial do cabo\n",
      "Processing record 28|morrope\n",
      "Sorry NO City Found. skipping.\n",
      "Processing record 29|ribeira grande\n",
      "Processing record 30|bud\n",
      "Processing record 31|kloulklubed\n",
      "Processing record 32|walvis bay\n",
      "Processing record 33|taoudenni\n",
      "Processing record 34|lagoa\n",
      "Processing record 35|east london\n",
      "Processing record 36|avarua\n",
      "Processing record 37|hobart\n",
      "Processing record 38|kaitangata\n",
      "Processing record 39|antalaha\n",
      "Processing record 40|upernavik\n",
      "Processing record 41|hithadhoo\n",
      "Processing record 42|alofi\n",
      "Processing record 43|carnarvon\n",
      "Processing record 44|paracuru\n",
      "Sorry NO City Found. skipping.\n",
      "Processing record 45|vaini\n",
      "Processing record 46|yellowknife\n",
      "Processing record 47|grimshaw\n",
      "Processing record 48|margate\n",
      "Processing record 49|ushuaia\n",
      "Sorry NO City Found. skipping.\n",
      "Processing record 50|kazachinskoye\n",
      "Processing record 51|reda\n",
      "Processing record 52|bluff\n",
      "Processing record 53|ilulissat\n",
      "Processing record 54|clyde river\n",
      "Processing record 55|yerbogachen\n",
      "Sorry NO City Found. skipping.\n",
      "Processing record 56|severo-kurilsk\n",
      "Sorry NO City Found. skipping.\n",
      "Processing record 57|saint anthony\n",
      "Processing record 58|bredasdorp\n",
      "Processing record 59|portobelo\n",
      "Processing record 60|jamestown\n",
      "Processing record 61|sao jose da coroa grande\n",
      "Processing record 62|jian\n",
      "Sorry NO City Found. skipping.\n",
      "Processing record 63|baracoa\n",
      "Processing record 64|doha\n",
      "Processing record 65|vila velha\n",
      "Processing record 66|avera\n",
      "Processing record 67|sembakung\n",
      "Sorry NO City Found. skipping.\n",
      "Processing record 68|chincha alta\n",
      "Processing record 69|lompoc\n",
      "Processing record 70|nishihara\n",
      "Sorry NO City Found. skipping.\n",
      "Processing record 71|boden\n",
      "Processing record 72|hermanus\n",
      "Processing record 73|airai\n",
      "Processing record 74|port elizabeth\n",
      "Processing record 75|tasiilaq\n",
      "Processing record 76|saint-philippe\n",
      "Processing record 77|vardo\n",
      "Processing record 78|provideniya\n",
      "Sorry NO City Found. skipping.\n",
      "Processing record 79|barrow\n",
      "Processing record 80|spornoye\n",
      "Processing record 81|ambunti\n",
      "Sorry NO City Found. skipping.\n",
      "Processing record 82|sao filipe\n",
      "Processing record 83|taywarah\n",
      "Processing record 84|kochki\n",
      "Processing record 85|zapolyarnyy\n",
      "Processing record 86|marzuq\n",
      "Processing record 87|ulaanbaatar\n",
      "Processing record 88|dudinka\n",
      "Processing record 89|sitka\n",
      "Processing record 90|elizabeth city\n",
      "Processing record 91|lorengau\n",
      "Processing record 92|santiago de cao\n",
      "Sorry NO City Found. skipping.\n",
      "Processing record 93|hirara\n",
      "Processing record 94|nang rong\n",
      "Processing record 95|hasaki\n",
      "Processing record 96|botshabelo\n",
      "Processing record 97|axim\n",
      "Processing record 98|comodoro rivadavia\n",
      "Sorry NO City Found. skipping.\n",
      "Processing record 99|bambous virieux\n",
      "Processing record 100|klaksvik\n",
      "Processing record 101|yulara\n",
      "Processing record 102|pevek\n",
      "Processing record 103|broome\n",
      "Processing record 104|mar del plata\n",
      "Processing record 105|formby\n",
      "Sorry NO City Found. skipping.\n",
      "Processing record 106|mukhen\n",
      "Processing record 107|jumla\n",
      "Processing record 108|toora-khem\n",
      "Processing record 109|dalvik\n",
      "Processing record 110|oussouye\n",
      "Processing record 111|aklavik\n",
      "Sorry NO City Found. skipping.\n",
      "Processing record 112|la plata\n",
      "Processing record 113|anadyr\n",
      "Processing record 114|do gonbadan\n",
      "Processing record 115|longyearbyen\n",
      "Processing record 116|yelovo\n",
      "Processing record 117|tiksi\n",
      "Sorry NO City Found. skipping.\n",
      "Processing record 118|ancud\n",
      "Processing record 119|cotorra\n",
      "Processing record 120|jalu\n",
      "Processing record 121|mangai\n",
      "Processing record 122|jieshi\n",
      "Processing record 123|varkaus\n",
      "Processing record 124|college\n",
      "Processing record 125|dingle\n",
      "Processing record 126|gohad\n",
      "Processing record 127|voskresenskoye\n",
      "Processing record 128|cape town\n",
      "Processing record 129|chuy\n",
      "Processing record 130|chokurdakh\n",
      "Processing record 131|kitimat\n",
      "Processing record 132|saskylakh\n",
      "Processing record 133|juneau\n",
      "Processing record 134|fuyang\n",
      "Processing record 135|konstantinovka\n",
      "Processing record 136|tanout\n",
      "Processing record 137|mahanoro\n",
      "Processing record 138|vao\n",
      "Processing record 139|preobrazheniye\n",
      "Processing record 140|aysha\n",
      "Processing record 141|salalah\n",
      "Processing record 142|santa cruz cabralia\n",
      "Processing record 143|grindavik\n",
      "Processing record 144|trairi\n",
      "Processing record 145|ixtapa\n",
      "Processing record 146|ocampo\n",
      "Processing record 147|iqaluit\n",
      "Processing record 148|hofn\n",
      "Processing record 149|qarayeri\n",
      "Processing record 150|lewiston\n",
      "Processing record 151|brae\n",
      "Processing record 152|port hedland\n",
      "Processing record 153|bethel\n",
      "Processing record 154|naze\n",
      "Processing record 155|hilo\n",
      "Processing record 156|castro\n",
      "Processing record 157|lisakovsk\n",
      "Processing record 158|isangel\n",
      "Processing record 159|kilindoni\n",
      "Processing record 160|lasa\n",
      "Processing record 161|lebu\n",
      "Processing record 162|tuatapere\n",
      "Processing record 163|amga\n",
      "Processing record 164|khuzhir\n",
      "Processing record 165|santa marta\n",
      "Processing record 166|palu\n",
      "Processing record 167|luyang\n",
      "Processing record 168|korla\n",
      "Processing record 169|cherskiy\n",
      "Processing record 170|coquimbo\n",
      "Processing record 171|floro\n",
      "Processing record 172|yarada\n",
      "Sorry NO City Found. skipping.\n",
      "Processing record 173|fukue\n",
      "Processing record 174|novikovo\n",
      "Processing record 175|aasiaat\n",
      "Sorry NO City Found. skipping.\n",
      "Processing record 176|nikolskoye\n",
      "Processing record 177|georgetown\n",
      "Processing record 178|mount pleasant\n",
      "Processing record 179|ratnagiri\n",
      "Processing record 180|svetlogorsk\n",
      "Processing record 181|port-gentil\n",
      "Processing record 182|maragogi\n",
      "Processing record 183|roma\n",
      "Processing record 184|sioux lookout\n",
      "Processing record 185|torbay\n",
      "Processing record 186|grandview\n",
      "Processing record 187|novoplatnirovskaya\n",
      "Processing record 188|ballina\n",
      "Processing record 189|manokwari\n",
      "Processing record 190|asau\n",
      "Sorry NO City Found. skipping.\n",
      "Processing record 191|lexington\n",
      "Processing record 192|tandil\n",
      "Processing record 193|san patricio\n",
      "Processing record 194|mirnyy\n",
      "Processing record 195|norman wells\n",
      "Processing record 196|half moon bay\n",
      "Processing record 197|deputatskiy\n",
      "Processing record 198|aswan\n",
      "Processing record 199|nouadhibou\n",
      "Processing record 200|monrovia\n",
      "Processing record 201|formosa\n",
      "Processing record 202|havre-saint-pierre\n",
      "Processing record 203|te anau\n",
      "Processing record 204|lukulu\n",
      "Processing record 205|aracoiaba da serra\n",
      "Processing record 206|muli\n",
      "Processing record 207|langxiang\n",
      "Processing record 208|narsaq\n",
      "Processing record 209|olafsvik\n",
      "Processing record 210|antsohihy\n",
      "Processing record 211|turki\n",
      "Processing record 212|nhulunbuy\n",
      "Processing record 213|kavieng\n",
      "Processing record 214|minsk\n",
      "Processing record 215|filingue\n",
      "Processing record 216|ponta do sol\n",
      "Processing record 217|springfield\n",
      "Processing record 218|nyrob\n",
      "Processing record 219|stornoway\n",
      "Processing record 220|cayenne\n",
      "Processing record 221|ostrovnoy\n",
      "Processing record 222|praia\n",
      "Processing record 223|necochea\n",
      "Processing record 224|paamiut\n",
      "Processing record 225|vestmannaeyjar\n",
      "Processing record 226|makakilo city\n",
      "Processing record 227|mayo\n",
      "Processing record 228|takaka\n",
      "Processing record 229|saint george\n",
      "Processing record 230|patea\n",
      "Processing record 231|taltal\n",
      "Processing record 232|hauterive\n",
      "Processing record 233|nelson bay\n",
      "Processing record 234|villa altagracia\n",
      "Processing record 235|touros\n",
      "Sorry NO City Found. skipping.\n",
      "Processing record 236|okhotsk\n",
      "Processing record 237|bathsheba\n",
      "Processing record 238|pangnirtung\n",
      "Processing record 239|kendari\n",
      "Sorry NO City Found. skipping.\n"
     ]
    },
    {
     "name": "stdout",
     "output_type": "stream",
     "text": [
      "Processing record 240|abay\n",
      "Sorry NO City Found. skipping.\n",
      "Processing record 241|beringovskiy\n",
      "Processing record 242|wodonga\n",
      "Processing record 243|butaritari\n",
      "Sorry NO City Found. skipping.\n",
      "Processing record 244|ambulu\n",
      "Processing record 245|fairbanks\n",
      "Processing record 246|kidal\n",
      "Processing record 247|katsuura\n",
      "Processing record 248|quesnel\n",
      "Sorry NO City Found. skipping.\n",
      "Processing record 249|caravelas\n",
      "Processing record 250|biryusinsk\n",
      "Processing record 251|henties bay\n",
      "Processing record 252|alice springs\n",
      "Processing record 253|alliance\n",
      "Processing record 254|soyo\n",
      "Processing record 255|urmary\n",
      "Processing record 256|marsa matruh\n",
      "Processing record 257|urumqi\n",
      "Processing record 258|cockburn town\n",
      "Processing record 259|san isidro\n",
      "Processing record 260|zaysan\n",
      "Processing record 261|superior\n",
      "Sorry NO City Found. skipping.\n",
      "Sorry NO City Found. skipping.\n",
      "Processing record 262|shwebo\n",
      "Processing record 263|kuznetsk\n",
      "Processing record 264|tocopilla\n",
      "Processing record 265|nanortalik\n",
      "Processing record 266|triunfo\n",
      "Processing record 267|porosozero\n",
      "Processing record 268|beyneu\n",
      "Processing record 269|koutiala\n",
      "Processing record 270|la paz\n",
      "Processing record 271|sumbe\n",
      "Processing record 272|shimoda\n",
      "Sorry NO City Found. skipping.\n",
      "Processing record 273|mackay\n",
      "Processing record 274|grand gaube\n",
      "Processing record 275|sakakah\n",
      "Processing record 276|namie\n",
      "Processing record 277|cintalapa\n",
      "Processing record 278|salinopolis\n",
      "Processing record 279|paita\n",
      "Processing record 280|port augusta\n",
      "Processing record 281|voh\n",
      "Processing record 282|gomel\n",
      "Processing record 283|la rioja\n",
      "Processing record 284|rawson\n",
      "Processing record 285|labuhan\n",
      "Processing record 286|kahului\n",
      "Processing record 287|lavrentiya\n",
      "Processing record 288|faanui\n",
      "Processing record 289|cootamundra\n",
      "Processing record 290|yatou\n",
      "Processing record 291|mpika\n",
      "Sorry NO City Found. skipping.\n",
      "Processing record 292|papagaios\n",
      "Processing record 293|goundam\n",
      "Processing record 294|troyes\n",
      "Processing record 295|port hardy\n",
      "Processing record 296|bentong\n",
      "Processing record 297|sangar\n",
      "Processing record 298|leh\n",
      "Processing record 299|qostanay\n",
      "Processing record 300|goderich\n",
      "Processing record 301|kurilsk\n",
      "Sorry NO City Found. skipping.\n",
      "Processing record 302|boa vista\n",
      "Processing record 303|araouane\n",
      "Processing record 304|flinders\n",
      "Processing record 305|penzance\n",
      "Processing record 306|ambon\n",
      "Processing record 307|kaeo\n",
      "Processing record 308|plouzane\n",
      "Sorry NO City Found. skipping.\n",
      "Processing record 309|kruisfontein\n",
      "Processing record 310|bilma\n",
      "Processing record 311|lake charles\n",
      "Processing record 312|saldanha\n",
      "Processing record 313|zyryanovsk\n",
      "Processing record 314|ordu\n",
      "Processing record 315|pachino\n",
      "Processing record 316|coffs harbour\n",
      "Processing record 317|ruteng\n",
      "Processing record 318|alexandria\n",
      "Processing record 319|belvedere marittimo\n",
      "Processing record 320|charters towers\n",
      "Processing record 321|sao jose de ribamar\n",
      "Processing record 322|rudnya\n",
      "Processing record 323|freeport\n",
      "Processing record 324|sola\n",
      "Processing record 325|saint-louis\n",
      "Processing record 326|inhambane\n",
      "Processing record 327|rudnogorsk\n",
      "Processing record 328|morros\n",
      "Sorry NO City Found. skipping.\n",
      "Processing record 329|tetouan\n",
      "Processing record 330|coihaique\n",
      "Sorry NO City Found. skipping.\n",
      "Processing record 331|yumen\n",
      "Processing record 332|raga\n",
      "Processing record 333|mehamn\n",
      "Processing record 334|itarema\n",
      "Processing record 335|hohhot\n",
      "Processing record 336|umm lajj\n",
      "Processing record 337|harper\n",
      "Processing record 338|haines junction\n",
      "Processing record 339|elko\n",
      "Processing record 340|mount isa\n",
      "Sorry NO City Found. skipping.\n",
      "Processing record 341|callejones\n",
      "Processing record 342|santa lucia\n",
      "Processing record 343|nabire\n",
      "Processing record 344|gao\n",
      "Processing record 345|shilka\n",
      "Processing record 346|virginia beach\n",
      "Sorry NO City Found. skipping.\n",
      "Processing record 347|tahta\n",
      "Sorry NO City Found. skipping.\n",
      "Processing record 348|pyatnitskoye\n",
      "Processing record 349|guerrero negro\n",
      "Processing record 350|tadine\n",
      "Processing record 351|zemio\n",
      "Processing record 352|bambanglipuro\n",
      "Processing record 353|abnub\n",
      "Processing record 354|zaozerne\n",
      "Processing record 355|luan\n",
      "Processing record 356|iacu\n",
      "Processing record 357|locri\n",
      "Processing record 358|bereda\n",
      "Processing record 359|praia da vitoria\n",
      "Processing record 360|atasu\n",
      "Processing record 361|tiznit\n",
      "Processing record 362|filadelfia\n",
      "Processing record 363|stowe\n",
      "Processing record 364|sobolevo\n",
      "Processing record 365|tamandare\n",
      "Processing record 366|lang son\n",
      "Processing record 367|port lincoln\n",
      "Processing record 368|batagay\n",
      "Processing record 369|buluang\n",
      "Processing record 370|lata\n",
      "Processing record 371|codrington\n",
      "Processing record 372|karratha\n",
      "Processing record 373|nyagan\n",
      "Sorry NO City Found. skipping.\n",
      "Processing record 374|saint-paul\n",
      "Processing record 375|tilichiki\n",
      "Processing record 376|constitucion\n",
      "Processing record 377|coahuayana\n",
      "Processing record 378|tecoanapa\n",
      "Processing record 379|geraldton\n",
      "Processing record 380|alegrete\n",
      "Processing record 381|san luis\n",
      "Processing record 382|la rochelle\n",
      "Processing record 383|hellvik\n",
      "Processing record 384|dembi dolo\n",
      "Sorry NO City Found. skipping.\n",
      "Processing record 385|pacific grove\n",
      "Processing record 386|kostroma\n",
      "Sorry NO City Found. skipping.\n",
      "Processing record 387|prestea\n",
      "Processing record 388|ahuimanu\n",
      "Processing record 389|shilovo\n",
      "Processing record 390|rio gallegos\n",
      "Processing record 391|faya\n",
      "Processing record 392|rohatyn\n",
      "Processing record 393|tateyama\n",
      "Processing record 394|hay river\n",
      "Processing record 395|kenai\n",
      "Processing record 396|banyo\n",
      "Sorry NO City Found. skipping.\n",
      "Processing record 397|umm kaddadah\n",
      "Processing record 398|caucaia\n",
      "Processing record 399|mugan\n",
      "Processing record 400|auki\n",
      "Sorry NO City Found. skipping.\n",
      "Processing record 401|mandan\n",
      "Processing record 402|san quintin\n",
      "Processing record 403|kolaras\n",
      "Processing record 404|luanda\n",
      "Processing record 405|bagotville\n",
      "Processing record 406|menongue\n",
      "Processing record 407|defiance\n",
      "Processing record 408|parabel\n",
      "Processing record 409|lichinga\n",
      "Processing record 410|zabol\n",
      "Processing record 411|traverse city\n",
      "Processing record 412|nioro\n",
      "Processing record 413|mahibadhoo\n",
      "Processing record 414|springbok\n",
      "Sorry NO City Found. skipping.\n",
      "Processing record 415|damghan\n",
      "Processing record 416|faranah\n",
      "Processing record 417|jutai\n",
      "Processing record 418|iringa\n",
      "Processing record 419|ures\n",
      "Processing record 420|augusto correa\n",
      "Processing record 421|comrat\n",
      "Processing record 422|varhaug\n",
      "Processing record 423|san felipe\n",
      "Processing record 424|micheweni\n",
      "Sorry NO City Found. skipping.\n",
      "Sorry NO City Found. skipping.\n",
      "Processing record 425|kafanchan\n",
      "Processing record 426|srednekolymsk\n",
      "Processing record 427|dosso\n",
      "Processing record 428|rundu\n",
      "Processing record 429|katangli\n",
      "Processing record 430|skegness\n",
      "Processing record 431|manakara\n",
      "Processing record 432|mishelevka\n",
      "Processing record 433|mahajanga\n",
      "Sorry NO City Found. skipping.\n",
      "Sorry NO City Found. skipping.\n",
      "Processing record 434|noyabrsk\n",
      "Processing record 435|katobu\n",
      "Processing record 436|pacifica\n",
      "Processing record 437|puerto narino\n",
      "Sorry NO City Found. skipping.\n",
      "Processing record 438|torata\n",
      "Processing record 439|forest\n",
      "Processing record 440|arzgir\n",
      "Processing record 441|olkhovatka\n",
      "Processing record 442|gumdag\n",
      "Processing record 443|lerwick\n",
      "Processing record 444|nuuk\n",
      "Processing record 445|akhtubinsk\n",
      "Processing record 446|aripuana\n",
      "Processing record 447|fort nelson\n",
      "Processing record 448|scottsbluff\n",
      "Processing record 449|togul\n",
      "Processing record 450|benidorm\n",
      "Processing record 451|ketchikan\n",
      "Processing record 452|pincher creek\n",
      "Processing record 453|loukhi\n",
      "Processing record 454|atambua\n",
      "Processing record 455|cabinda\n",
      "Processing record 456|hualmay\n",
      "Processing record 457|camacupa\n",
      "Processing record 458|chicama\n",
      "Processing record 459|salisbury\n",
      "Processing record 460|arawa\n",
      "Processing record 461|padang\n",
      "Processing record 462|jalingo\n",
      "Processing record 463|sinjar\n",
      "Processing record 464|berlevag\n",
      "Processing record 465|key west\n",
      "Processing record 466|marawi\n",
      "Processing record 467|kavaratti\n",
      "Processing record 468|cidreira\n",
      "Processing record 469|nizhniy kuranakh\n",
      "Processing record 470|kyshtovka\n",
      "Processing record 471|santiago de chuco\n",
      "Processing record 472|nome\n",
      "Processing record 473|ukiah\n",
      "Processing record 474|shelburne\n",
      "Processing record 475|lengshuitan\n",
      "Processing record 476|ucar\n",
      "Processing record 477|amahai\n",
      "Processing record 478|port macquarie\n",
      "Sorry NO City Found. skipping.\n"
     ]
    },
    {
     "name": "stdout",
     "output_type": "stream",
     "text": [
      "Processing record 479|mango\n",
      "Processing record 480|lazaro cardenas\n",
      "Processing record 481|ustka\n",
      "Processing record 482|amuntai\n",
      "Processing record 483|talcahuano\n",
      "Sorry NO City Found. skipping.\n",
      "Processing record 484|naron\n",
      "Processing record 485|yuncheng\n",
      "Processing record 486|barcarena\n",
      "Processing record 487|pontalina\n",
      "Processing record 488|kavkazskiy\n",
      "Processing record 489|cassia\n",
      "Processing record 490|namibe\n",
      "Processing record 491|omaruru\n",
      "Processing record 492|kharan\n",
      "Processing record 493|zadonsk\n",
      "Processing record 494|yuli\n",
      "Processing record 495|santa maria\n",
      "Processing record 496|byron bay\n",
      "Processing record 497|luau\n",
      "Processing record 498|ust-tsilma\n",
      "Processing record 499|kemijarvi\n",
      "Processing record 500|mayumba\n",
      "Processing record 501|buchanan\n",
      "Processing record 502|morgan city\n",
      "Processing record 503|bela\n",
      "Sorry NO City Found. skipping.\n",
      "Processing record 504|husavik\n",
      "Processing record 505|baykit\n",
      "Processing record 506|kamenka\n",
      "Processing record 507|kerema\n",
      "Processing record 508|moengo\n",
      "Processing record 509|mogzon\n",
      "Processing record 510|northam\n",
      "Processing record 511|bloomfield\n",
      "Processing record 512|ust-barguzin\n",
      "Processing record 513|mosquera\n",
      "Processing record 514|labuan\n",
      "Processing record 515|turukhansk\n",
      "Processing record 516|kargopol\n",
      "Processing record 517|takoradi\n",
      "Sorry NO City Found. skipping.\n",
      "Processing record 518|french harbor\n",
      "Processing record 519|bonfim\n",
      "Sorry NO City Found. skipping.\n",
      "Processing record 520|saint-georges\n",
      "Processing record 521|altay\n"
     ]
    }
   ],
   "source": [
    "print(\"Beginning Data Retrieval \")\n",
    "print(\"-----------------------------\")\n",
    "\n",
    "base_url = \"http://api.openweathermap.org/data/2.5/weather?\"\n",
    "units = \"metric\"\n",
    "query_url = f\"{base_url}appid={weather_api_key}&units={units}&q=\"\n",
    "# query_url\n",
    "\n",
    "i = 1\n",
    "for city in cities:\n",
    "    response = requests.get(query_url + city).json()\n",
    "   #  cities.append(response['city']['country'])\n",
    "    \n",
    "    \n",
    "    try:\n",
    "        \n",
    "        cloudiness.append(response[\"clouds\"][\"all\"])\n",
    "        country.append(response[\"sys\"][\"country\"])\n",
    "        date.append(response[\"dt\"])\n",
    "        max_temp.append(response[\"main\"]['temp_max'])\n",
    "        humidity.append(response[\"main\"]['humidity'])\n",
    "        lat.append(response[\"coord\"][\"lat\"])  \n",
    "        lng.append(response[\"coord\"][\"lon\"])\n",
    "        wind_speed.append(response[\"wind\"][\"speed\"])\n",
    "        city_name.append(response[\"name\"])\n",
    "        sun_rise.append(response[\"sys\"][\"sunrise\"])\n",
    "        sun_set.append(response[\"sys\"][\"sunset\"])\n",
    "        print(f\"Processing record {i}|{city}\")\n",
    "        i+=1\n",
    "    except (KeyError):\n",
    "        print(\"Sorry NO City Found. skipping.\")"
   ]
  },
  {
   "cell_type": "markdown",
   "metadata": {},
   "source": [
    "### Convert Raw Data to DataFrame\n",
    "* Export the city data into a .csv.\n",
    "* Display the DataFrame"
   ]
  },
  {
   "cell_type": "code",
   "execution_count": 66,
   "metadata": {},
   "outputs": [
    {
     "data": {
      "text/html": [
       "<div>\n",
       "<style scoped>\n",
       "    .dataframe tbody tr th:only-of-type {\n",
       "        vertical-align: middle;\n",
       "    }\n",
       "\n",
       "    .dataframe tbody tr th {\n",
       "        vertical-align: top;\n",
       "    }\n",
       "\n",
       "    .dataframe thead th {\n",
       "        text-align: right;\n",
       "    }\n",
       "</style>\n",
       "<table border=\"1\" class=\"dataframe\">\n",
       "  <thead>\n",
       "    <tr style=\"text-align: right;\">\n",
       "      <th></th>\n",
       "      <th>Cloudiness</th>\n",
       "      <th>Country</th>\n",
       "      <th>Date</th>\n",
       "      <th>Max_Temp</th>\n",
       "      <th>Humidity</th>\n",
       "      <th>Lat</th>\n",
       "      <th>Lng</th>\n",
       "      <th>City</th>\n",
       "      <th>Wind Speed</th>\n",
       "      <th>Sun Rise</th>\n",
       "      <th>Sun Set</th>\n",
       "    </tr>\n",
       "  </thead>\n",
       "  <tbody>\n",
       "    <tr>\n",
       "      <th>0</th>\n",
       "      <td>98</td>\n",
       "      <td>GL</td>\n",
       "      <td>1625528028</td>\n",
       "      <td>3.02</td>\n",
       "      <td>65</td>\n",
       "      <td>77.4840</td>\n",
       "      <td>-69.3632</td>\n",
       "      <td>Qaanaaq</td>\n",
       "      <td>0.48</td>\n",
       "      <td>0</td>\n",
       "      <td>0</td>\n",
       "    </tr>\n",
       "    <tr>\n",
       "      <th>1</th>\n",
       "      <td>99</td>\n",
       "      <td>AU</td>\n",
       "      <td>1625528028</td>\n",
       "      <td>8.14</td>\n",
       "      <td>84</td>\n",
       "      <td>-42.7826</td>\n",
       "      <td>147.0587</td>\n",
       "      <td>New Norfolk</td>\n",
       "      <td>0.38</td>\n",
       "      <td>1625521328</td>\n",
       "      <td>1625554226</td>\n",
       "    </tr>\n",
       "    <tr>\n",
       "      <th>2</th>\n",
       "      <td>19</td>\n",
       "      <td>HK</td>\n",
       "      <td>1625527794</td>\n",
       "      <td>30.74</td>\n",
       "      <td>80</td>\n",
       "      <td>22.2855</td>\n",
       "      <td>114.1577</td>\n",
       "      <td>Hong Kong</td>\n",
       "      <td>0.45</td>\n",
       "      <td>1625521467</td>\n",
       "      <td>1625569880</td>\n",
       "    </tr>\n",
       "    <tr>\n",
       "      <th>3</th>\n",
       "      <td>20</td>\n",
       "      <td>CA</td>\n",
       "      <td>1625528029</td>\n",
       "      <td>11.00</td>\n",
       "      <td>82</td>\n",
       "      <td>69.4541</td>\n",
       "      <td>-133.0374</td>\n",
       "      <td>Tuktoyaktuk</td>\n",
       "      <td>4.12</td>\n",
       "      <td>0</td>\n",
       "      <td>0</td>\n",
       "    </tr>\n",
       "    <tr>\n",
       "      <th>4</th>\n",
       "      <td>34</td>\n",
       "      <td>PF</td>\n",
       "      <td>1625527993</td>\n",
       "      <td>26.01</td>\n",
       "      <td>79</td>\n",
       "      <td>-9.8000</td>\n",
       "      <td>-139.0333</td>\n",
       "      <td>Atuona</td>\n",
       "      <td>10.63</td>\n",
       "      <td>1625499213</td>\n",
       "      <td>1625540860</td>\n",
       "    </tr>\n",
       "  </tbody>\n",
       "</table>\n",
       "</div>"
      ],
      "text/plain": [
       "   Cloudiness Country        Date  Max_Temp  Humidity      Lat       Lng  \\\n",
       "0          98      GL  1625528028      3.02        65  77.4840  -69.3632   \n",
       "1          99      AU  1625528028      8.14        84 -42.7826  147.0587   \n",
       "2          19      HK  1625527794     30.74        80  22.2855  114.1577   \n",
       "3          20      CA  1625528029     11.00        82  69.4541 -133.0374   \n",
       "4          34      PF  1625527993     26.01        79  -9.8000 -139.0333   \n",
       "\n",
       "          City  Wind Speed    Sun Rise     Sun Set  \n",
       "0      Qaanaaq        0.48           0           0  \n",
       "1  New Norfolk        0.38  1625521328  1625554226  \n",
       "2    Hong Kong        0.45  1625521467  1625569880  \n",
       "3  Tuktoyaktuk        4.12           0           0  \n",
       "4       Atuona       10.63  1625499213  1625540860  "
      ]
     },
     "execution_count": 66,
     "metadata": {},
     "output_type": "execute_result"
    }
   ],
   "source": [
    "# create a data frame from cities, lat, and temp\n",
    "weather_glossary = {\n",
    "    #\"city\": cities,\n",
    "    #\"lat\": lat,\n",
    "    #\"temp\": temp\n",
    "    \"Cloudiness\": cloudiness,\n",
    "    \"Country\": country,\n",
    "    \"Date\": date,\n",
    "    \"Max_Temp\": max_temp,        \n",
    "    \"Humidity\": humidity,\n",
    "    \"Lat\": lat,  \n",
    "    \"Lng\": lng,\n",
    "    \"City\": city_name,\n",
    "    \"Wind Speed\": wind_speed,\n",
    "    \"Sun Rise\": sun_rise,\n",
    "    \"Sun Set\": sun_set\n",
    "        \n",
    "}\n",
    "weather_detail = pd.DataFrame(weather_glossary)\n",
    "\n",
    "#Exporting data to csv\n",
    "weather_detail.to_csv(r'C:\\Users\\kerry\\DataBootCamp\\python-api-challenge\\WeatherPy\\city_weather_detail.csv', index=False)\n",
    "\n",
    "\n",
    "#Displaying dataframe\n",
    "weather_detail.head()\n"
   ]
  },
  {
   "cell_type": "markdown",
   "metadata": {},
   "source": [
    "## Inspect the data and remove the cities where the humidity > 100%.\n",
    "----\n",
    "Skip this step if there are no cities that have humidity > 100%. "
   ]
  },
  {
   "cell_type": "code",
   "execution_count": 67,
   "metadata": {},
   "outputs": [
    {
     "data": {
      "text/html": [
       "<div>\n",
       "<style scoped>\n",
       "    .dataframe tbody tr th:only-of-type {\n",
       "        vertical-align: middle;\n",
       "    }\n",
       "\n",
       "    .dataframe tbody tr th {\n",
       "        vertical-align: top;\n",
       "    }\n",
       "\n",
       "    .dataframe thead th {\n",
       "        text-align: right;\n",
       "    }\n",
       "</style>\n",
       "<table border=\"1\" class=\"dataframe\">\n",
       "  <thead>\n",
       "    <tr style=\"text-align: right;\">\n",
       "      <th></th>\n",
       "      <th>Cloudiness</th>\n",
       "      <th>Date</th>\n",
       "      <th>Max_Temp</th>\n",
       "      <th>Humidity</th>\n",
       "      <th>Lat</th>\n",
       "      <th>Lng</th>\n",
       "      <th>Wind Speed</th>\n",
       "      <th>Sun Rise</th>\n",
       "      <th>Sun Set</th>\n",
       "    </tr>\n",
       "  </thead>\n",
       "  <tbody>\n",
       "    <tr>\n",
       "      <th>count</th>\n",
       "      <td>1042.000000</td>\n",
       "      <td>1.042000e+03</td>\n",
       "      <td>1042.000000</td>\n",
       "      <td>1042.000000</td>\n",
       "      <td>1042.000000</td>\n",
       "      <td>1042.000000</td>\n",
       "      <td>1042.000000</td>\n",
       "      <td>1.042000e+03</td>\n",
       "      <td>1.042000e+03</td>\n",
       "    </tr>\n",
       "    <tr>\n",
       "      <th>mean</th>\n",
       "      <td>51.788868</td>\n",
       "      <td>1.625528e+09</td>\n",
       "      <td>20.096612</td>\n",
       "      <td>72.392514</td>\n",
       "      <td>20.497284</td>\n",
       "      <td>15.071958</td>\n",
       "      <td>3.309760</td>\n",
       "      <td>1.541271e+09</td>\n",
       "      <td>1.541318e+09</td>\n",
       "    </tr>\n",
       "    <tr>\n",
       "      <th>std</th>\n",
       "      <td>38.068995</td>\n",
       "      <td>3.843162e+02</td>\n",
       "      <td>8.050924</td>\n",
       "      <td>19.787499</td>\n",
       "      <td>33.812662</td>\n",
       "      <td>89.037844</td>\n",
       "      <td>2.250529</td>\n",
       "      <td>3.605005e+08</td>\n",
       "      <td>3.605116e+08</td>\n",
       "    </tr>\n",
       "    <tr>\n",
       "      <th>min</th>\n",
       "      <td>0.000000</td>\n",
       "      <td>1.625528e+09</td>\n",
       "      <td>-3.350000</td>\n",
       "      <td>8.000000</td>\n",
       "      <td>-54.800000</td>\n",
       "      <td>-175.200000</td>\n",
       "      <td>0.000000</td>\n",
       "      <td>0.000000e+00</td>\n",
       "      <td>0.000000e+00</td>\n",
       "    </tr>\n",
       "    <tr>\n",
       "      <th>25%</th>\n",
       "      <td>8.250000</td>\n",
       "      <td>1.625528e+09</td>\n",
       "      <td>13.590000</td>\n",
       "      <td>64.000000</td>\n",
       "      <td>-8.150000</td>\n",
       "      <td>-61.748500</td>\n",
       "      <td>1.630000</td>\n",
       "      <td>1.625481e+09</td>\n",
       "      <td>1.625531e+09</td>\n",
       "    </tr>\n",
       "    <tr>\n",
       "      <th>50%</th>\n",
       "      <td>54.000000</td>\n",
       "      <td>1.625528e+09</td>\n",
       "      <td>21.150000</td>\n",
       "      <td>78.000000</td>\n",
       "      <td>25.400000</td>\n",
       "      <td>17.691000</td>\n",
       "      <td>2.850000</td>\n",
       "      <td>1.625516e+09</td>\n",
       "      <td>1.625561e+09</td>\n",
       "    </tr>\n",
       "    <tr>\n",
       "      <th>75%</th>\n",
       "      <td>90.000000</td>\n",
       "      <td>1.625529e+09</td>\n",
       "      <td>26.335000</td>\n",
       "      <td>87.000000</td>\n",
       "      <td>50.233400</td>\n",
       "      <td>88.397200</td>\n",
       "      <td>4.630000</td>\n",
       "      <td>1.625533e+09</td>\n",
       "      <td>1.625586e+09</td>\n",
       "    </tr>\n",
       "    <tr>\n",
       "      <th>max</th>\n",
       "      <td>100.000000</td>\n",
       "      <td>1.625529e+09</td>\n",
       "      <td>42.570000</td>\n",
       "      <td>100.000000</td>\n",
       "      <td>78.218600</td>\n",
       "      <td>179.316700</td>\n",
       "      <td>18.010000</td>\n",
       "      <td>1.625596e+09</td>\n",
       "      <td>1.625653e+09</td>\n",
       "    </tr>\n",
       "  </tbody>\n",
       "</table>\n",
       "</div>"
      ],
      "text/plain": [
       "        Cloudiness          Date     Max_Temp     Humidity          Lat  \\\n",
       "count  1042.000000  1.042000e+03  1042.000000  1042.000000  1042.000000   \n",
       "mean     51.788868  1.625528e+09    20.096612    72.392514    20.497284   \n",
       "std      38.068995  3.843162e+02     8.050924    19.787499    33.812662   \n",
       "min       0.000000  1.625528e+09    -3.350000     8.000000   -54.800000   \n",
       "25%       8.250000  1.625528e+09    13.590000    64.000000    -8.150000   \n",
       "50%      54.000000  1.625528e+09    21.150000    78.000000    25.400000   \n",
       "75%      90.000000  1.625529e+09    26.335000    87.000000    50.233400   \n",
       "max     100.000000  1.625529e+09    42.570000   100.000000    78.218600   \n",
       "\n",
       "               Lng   Wind Speed      Sun Rise       Sun Set  \n",
       "count  1042.000000  1042.000000  1.042000e+03  1.042000e+03  \n",
       "mean     15.071958     3.309760  1.541271e+09  1.541318e+09  \n",
       "std      89.037844     2.250529  3.605005e+08  3.605116e+08  \n",
       "min    -175.200000     0.000000  0.000000e+00  0.000000e+00  \n",
       "25%     -61.748500     1.630000  1.625481e+09  1.625531e+09  \n",
       "50%      17.691000     2.850000  1.625516e+09  1.625561e+09  \n",
       "75%      88.397200     4.630000  1.625533e+09  1.625586e+09  \n",
       "max     179.316700    18.010000  1.625596e+09  1.625653e+09  "
      ]
     },
     "execution_count": 67,
     "metadata": {},
     "output_type": "execute_result"
    }
   ],
   "source": [
    "#No cities that have Humidity greater than 100%\n",
    "weather_detail.describe()"
   ]
  },
  {
   "cell_type": "markdown",
   "metadata": {},
   "source": [
    "## Plotting the Data\n",
    "* Use proper labeling of the plots using plot titles (including date of analysis) and axes labels.\n",
    "* Save the plotted figures as .pngs."
   ]
  },
  {
   "cell_type": "markdown",
   "metadata": {},
   "source": [
    "## Latitude vs. Temperature Plot"
   ]
  },
  {
   "cell_type": "code",
   "execution_count": 77,
   "metadata": {
    "scrolled": true
   },
   "outputs": [
    {
     "data": {
      "image/png": "[encoded data removed]",
      "text/plain": [
       "<Figure size 432x288 with 1 Axes>"
      ]
     },
     "metadata": {
      "needs_background": "light"
     },
     "output_type": "display_data"
    }
   ],
   "source": [
    "# Create a Scatter Plot for temperature vs latitude\n",
    "x_values = weather_detail['Lat'],\n",
    "y_values = weather_detail['Max_Temp']\n",
    "plt.scatter(x_values,y_values)\n",
    "plt.xlabel('Latitude')\n",
    "plt.ylabel('Temperature')\n",
    "plt.savefig(r\"C:\\Users\\kerry\\DataBootCamp\\python-api-challenge\\WeatherPy\\Images\\Lat_vs_Temp.png\")\n",
    "plt.show()"
   ]
  },
  {
   "cell_type": "markdown",
   "metadata": {},
   "source": [
    "## Latitude vs. Humidity Plot"
   ]
  },
  {
   "cell_type": "code",
   "execution_count": 78,
   "metadata": {},
   "outputs": [
    {
     "data": {
      "image/png": "[encoded data removed]",
      "text/plain": [
       "<Figure size 432x288 with 1 Axes>"
      ]
     },
     "metadata": {
      "needs_background": "light"
     },
     "output_type": "display_data"
    }
   ],
   "source": [
    "# Create a Scatter Plot for latitude vs humidity\n",
    "x_values = weather_detail['Lat'],\n",
    "y_values = weather_detail['Humidity']\n",
    "plt.scatter(x_values,y_values)\n",
    "plt.xlabel('Latitude')\n",
    "plt.ylabel('Humidity')\n",
    "plt.savefig(r\"C:\\Users\\kerry\\DataBootCamp\\python-api-challenge\\WeatherPy\\Images\\Lat_vs_Hum.png\")\n",
    "plt.show()"
   ]
  },
  {
   "cell_type": "markdown",
   "metadata": {},
   "source": [
    "## Latitude vs. Cloudiness Plot"
   ]
  },
  {
   "cell_type": "code",
   "execution_count": 79,
   "metadata": {},
   "outputs": [
    {
     "data": {
      "image/png": "[encoded data removed]",
      "text/plain": [
       "<Figure size 432x288 with 1 Axes>"
      ]
     },
     "metadata": {
      "needs_background": "light"
     },
     "output_type": "display_data"
    }
   ],
   "source": [
    "# Create a Scatter Plot for latitude vs cloudiness\n",
    "x_values = weather_detail['Lat'],\n",
    "y_values = weather_detail['Cloudiness']\n",
    "plt.scatter(x_values,y_values)\n",
    "plt.xlabel('Latitude')\n",
    "plt.ylabel('Cloudiness')\n",
    "plt.savefig(r\"C:\\Users\\kerry\\DataBootCamp\\python-api-challenge\\WeatherPy\\Images\\Lat_vs_Cloud.png\")\n",
    "plt.show()"
   ]
  },
  {
   "cell_type": "markdown",
   "metadata": {},
   "source": [
    "## Latitude vs. Wind Speed Plot"
   ]
  },
  {
   "cell_type": "code",
   "execution_count": 80,
   "metadata": {},
   "outputs": [
    {
     "data": {
      "image/png": "[encoded data removed]",
      "text/plain": [
       "<Figure size 432x288 with 1 Axes>"
      ]
     },
     "metadata": {
      "needs_background": "light"
     },
     "output_type": "display_data"
    }
   ],
   "source": [
    "# Create a Scatter Plot for latitude vs wind speed\n",
    "x_values = weather_detail['Lat'],\n",
    "y_values = weather_detail['Wind Speed']\n",
    "plt.scatter(x_values,y_values)\n",
    "plt.xlabel('Latitude')\n",
    "plt.ylabel('Wind Speed')\n",
    "plt.savefig(r\"C:\\Users\\kerry\\DataBootCamp\\python-api-challenge\\WeatherPy\\Images\\Lat_vs_Wind.png\")\n",
    "plt.show()"
   ]
  },
  {
   "cell_type": "markdown",
   "metadata": {},
   "source": [
    "## Linear Regression"
   ]
  },
  {
   "cell_type": "markdown",
   "metadata": {},
   "source": [
    "####  Northern Hemisphere - Max Temp vs. Latitude Linear Regression"
   ]
  },
  {
   "cell_type": "code",
   "execution_count": 25,
   "metadata": {},
   "outputs": [
    {
     "name": "stdout",
     "output_type": "stream",
     "text": [
      "The r-value is: 0.46937863826630627\n"
     ]
    },
    {
     "data": {
      "image/png": "[encoded data removed]",
      "text/plain": [
       "<Figure size 432x288 with 1 Axes>"
      ]
     },
     "metadata": {
      "needs_background": "light"
     },
     "output_type": "display_data"
    }
   ],
   "source": []
  },
  {
   "cell_type": "markdown",
   "metadata": {},
   "source": [
    "####  Southern Hemisphere - Max Temp vs. Latitude Linear Regression"
   ]
  },
  {
   "cell_type": "code",
   "execution_count": 26,
   "metadata": {},
   "outputs": [
    {
     "name": "stdout",
     "output_type": "stream",
     "text": [
      "The r-value is: 0.6082708688906918\n"
     ]
    },
    {
     "data": {
      "image/png": "[encoded data removed]",
      "text/plain": [
       "<Figure size 432x288 with 1 Axes>"
      ]
     },
     "metadata": {
      "needs_background": "light"
     },
     "output_type": "display_data"
    }
   ],
   "source": []
  },
  {
   "cell_type": "markdown",
   "metadata": {},
   "source": [
    "####  Northern Hemisphere - Humidity (%) vs. Latitude Linear Regression"
   ]
  },
  {
   "cell_type": "code",
   "execution_count": 27,
   "metadata": {},
   "outputs": [
    {
     "name": "stdout",
     "output_type": "stream",
     "text": [
      "The r-value is: 0.000543987878808455\n"
     ]
    },
    {
     "data": {
      "image/png": "[encoded data removed]",
      "text/plain": [
       "<Figure size 432x288 with 1 Axes>"
      ]
     },
     "metadata": {
      "needs_background": "light"
     },
     "output_type": "display_data"
    }
   ],
   "source": []
  },
  {
   "cell_type": "markdown",
   "metadata": {},
   "source": [
    "####  Southern Hemisphere - Humidity (%) vs. Latitude Linear Regression"
   ]
  },
  {
   "cell_type": "code",
   "execution_count": 28,
   "metadata": {},
   "outputs": [
    {
     "name": "stdout",
     "output_type": "stream",
     "text": [
      "The r-value is: 0.014985174297345524\n"
     ]
    },
    {
     "data": {
      "image/png": "[encoded data removed]",
      "text/plain": [
       "<Figure size 432x288 with 1 Axes>"
      ]
     },
     "metadata": {
      "needs_background": "light"
     },
     "output_type": "display_data"
    }
   ],
   "source": []
  },
  {
   "cell_type": "markdown",
   "metadata": {},
   "source": [
    "####  Northern Hemisphere - Cloudiness (%) vs. Latitude Linear Regression"
   ]
  },
  {
   "cell_type": "code",
   "execution_count": 29,
   "metadata": {},
   "outputs": [
    {
     "name": "stdout",
     "output_type": "stream",
     "text": [
      "The r-value is: 0.0020898727664228514\n"
     ]
    },
    {
     "data": {
      "image/png": "[encoded data removed]",
      "text/plain": [
       "<Figure size 432x288 with 1 Axes>"
      ]
     },
     "metadata": {
      "needs_background": "light"
     },
     "output_type": "display_data"
    }
   ],
   "source": []
  },
  {
   "cell_type": "markdown",
   "metadata": {},
   "source": [
    "####  Southern Hemisphere - Cloudiness (%) vs. Latitude Linear Regression"
   ]
  },
  {
   "cell_type": "code",
   "execution_count": 30,
   "metadata": {},
   "outputs": [
    {
     "name": "stdout",
     "output_type": "stream",
     "text": [
      "The r-value is: 0.0035263772085582894\n"
     ]
    },
    {
     "data": {
      "image/png": "[encoded data removed]",
      "text/plain": [
       "<Figure size 432x288 with 1 Axes>"
      ]
     },
     "metadata": {
      "needs_background": "light"
     },
     "output_type": "display_data"
    }
   ],
   "source": []
  },
  {
   "cell_type": "markdown",
   "metadata": {},
   "source": [
    "####  Northern Hemisphere - Wind Speed (mph) vs. Latitude Linear Regression"
   ]
  },
  {
   "cell_type": "code",
   "execution_count": 31,
   "metadata": {},
   "outputs": [
    {
     "name": "stdout",
     "output_type": "stream",
     "text": [
      "The r-value is: 0.04019723576144484\n"
     ]
    },
    {
     "data": {
      "image/png": "[encoded data removed]",
      "text/plain": [
       "<Figure size 432x288 with 1 Axes>"
      ]
     },
     "metadata": {
      "needs_background": "light"
     },
     "output_type": "display_data"
    }
   ],
   "source": []
  },
  {
   "cell_type": "markdown",
   "metadata": {},
   "source": [
    "####  Southern Hemisphere - Wind Speed (mph) vs. Latitude Linear Regression"
   ]
  },
  {
   "cell_type": "code",
   "execution_count": 32,
   "metadata": {},
   "outputs": [
    {
     "name": "stdout",
     "output_type": "stream",
     "text": [
      "The r-value is: 0.017128274759839232\n"
     ]
    },
    {
     "data": {
      "image/png": "[encoded data removed]",
      "text/plain": [
       "<Figure size 432x288 with 1 Axes>"
      ]
     },
     "metadata": {
      "needs_background": "light"
     },
     "output_type": "display_data"
    }
   ],
   "source": []
  },
  {
   "cell_type": "code",
   "execution_count": null,
   "metadata": {},
   "outputs": [],
   "source": []
  }
 ],
 "metadata": {
  "anaconda-cloud": {},
  "interpreter": {
   "hash": "cf9431fb2f18f4d265e2a8e10d39873690f69d776f1f69bbc20b04b1aea95adf"
  },
  "kernel_info": {
   "name": "python3"
  },
  "kernelspec": {
   "display_name": "Python 3",
   "language": "python",
   "name": "python3"
  },
  "language_info": {
   "codemirror_mode": {
    "name": "ipython",
    "version": 3
   },
   "file_extension": ".py",
   "mimetype": "text/x-python",
   "name": "python",
   "nbconvert_exporter": "python",
   "pygments_lexer": "ipython3",
   "version": "3.8.5"
  },
  "latex_envs": {
   "LaTeX_envs_menu_present": true,
   "autoclose": false,
   "autocomplete": true,
   "bibliofile": "biblio.bib",
   "cite_by": "apalike",
   "current_citInitial": 1,
   "eqLabelWithNumbers": true,
   "eqNumInitial": 1,
   "hotkeys": {
    "equation": "Ctrl-E",
    "itemize": "Ctrl-I"
   },
   "labels_anchors": false,
   "latex_user_defs": false,
   "report_style_numbering": false,
   "user_envs_cfg": false
  },
  "nteract": {
   "version": "0.12.3"
  }
 },
 "nbformat": 4,
 "nbformat_minor": 2
}
